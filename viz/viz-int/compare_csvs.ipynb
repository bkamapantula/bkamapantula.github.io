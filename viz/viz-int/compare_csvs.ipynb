{
 "cells": [
  {
   "cell_type": "code",
   "execution_count": 44,
   "metadata": {
    "collapsed": false
   },
   "outputs": [],
   "source": [
    "\"\"\"\n",
    "Data from ope.ed.gov/Security does not have location information. Hence Google Places API is used to retrieve relevant information\n",
    "which is then appended to the official data for mapping purposes.\n",
    "\n",
    "Compares two files and appends address information\n",
    "\"\"\"\n",
    "\n",
    "csv_with_address = \"with_address.csv\"\n",
    "csv_without_address = \"Criminal_Offenses_On_campus_allunivs-2001-2013.csv\" \n",
    "\n",
    "rows = []\n",
    "\n",
    "for row in open(csv_with_address, 'r'):\n",
    "    row = row.split(',')\n",
    "    for line in open(csv_without_address, 'r'):\n",
    "        line = line.split(',')\n",
    "        # add address, lat, long to historic file (2001-2013) if institution names are same\n",
    "        if line[2] == row[2]:\n",
    "            rows.append([r if r_ind < len(line) - 1 else r.split(\"\\n\")[0] for r_ind, r in enumerate(line)])\n",
    "            rows.append([str(row[15])])\n",
    "            rows.append([str(row[16])])\n",
    "            rows.append([str(row[17])])\n",
    "            rows.append(\"\\n\")\n",
    "\n",
    "with open(\"2001-2013-criminal-offenses.csv\", \"w\") as out_file:\n",
    "    for row in rows:\n",
    "        for r in row:\n",
    "            out_file.write(r + \",\")\n",
    "\"\"\"\n",
    "Duplicate rows are deleted to avoid redundacy later.\n",
    "\"\"\"\n"
   ]
  },
  {
   "cell_type": "code",
   "execution_count": null,
   "metadata": {
    "collapsed": true
   },
   "outputs": [],
   "source": []
  }
 ],
 "metadata": {
  "kernelspec": {
   "display_name": "Python 3",
   "language": "python",
   "name": "python3"
  },
  "language_info": {
   "codemirror_mode": {
    "name": "ipython",
    "version": 3
   },
   "file_extension": ".py",
   "mimetype": "text/x-python",
   "name": "python",
   "nbconvert_exporter": "python",
   "pygments_lexer": "ipython3",
   "version": "3.4.0"
  }
 },
 "nbformat": 4,
 "nbformat_minor": 0
}
